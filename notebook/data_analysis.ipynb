# Load environment variables from .env file
from dotenv import load_dotenv
load_dotenv()

# Set up API keys and other configuration
API_KEY = os.getenv('PI_COSMOS_API_KEY')
API_URL = 'https://api.pi-cosmos.com/v1'

# Load data from the Pi Cosmos API
import requests
data_url = f'{API_URL}/data'
data_params = {
    'filters': 'location:New York,commodity:Gold',
    'sort': '-date',
    'limit': 1000,
}
data_headers = {
    'Authorization': f'Bearer {API_KEY}',
}
data_response = requests.get(data_url, params=data_params, headers=data_headers)
data_json = data_response.json()
data_df = pd.DataFrame(data_json['data'])

# Clean and preprocess the data
data_df['date'] = pd.to_datetime(data_df['date'])
data_df = data_df.set_index('date')
data_df = data_df.resample('D').interpolate()
data_df = data_df.dropna()

# Analyze the data
data_summary = data_df.describe()
data_corr = data_df.corr()
data_heatmap = sns.heatmap(data_corr, annot=True, cmap='coolwarm')
data_plot = data_df.plot(kind='line')

# Save the results
output_dir = 'output'
os.makedirs(output_dir, exist_ok=True)
data_summary.to_csv(os.path.join(output_dir, 'data_summary.csv'))
data_corr.to_csv(os.path.join(output_dir, 'data_corr.csv'))
data_plot.get_figure().savefig(os.path.join(output_dir, 'data_plot.png'))
data_heatmap.get_figure().savefig(os.path.join(output_dir, 'data_heatmap.png'))

# Display the results
plt.show()

# Run a machine learning model
from sklearn.linear_model import LinearRegression
from sklearn.model_selection import train_test_split
from sklearn.metrics import mean_squared_error

# Prepare the data
X = data_df[['price']]
y = data_df[['volume']]
X_train, X_test, y_train, y_test = train_test_split(X, y, test_size=0.2, random_state=42)

# Train the model
model = LinearRegression()
model.fit(X_train, y_train)

# Evaluate the model
y_pred = model.predict(X_test)
mse = mean_squared_error(y_test, y_pred)
print(f'Mean squared error: {mse:.2f}')

# Visualize the results
import plotly.express as px
fig = px.scatter(data_df, x='price', y='volume', title='Price vs Volume')
fig.show()
